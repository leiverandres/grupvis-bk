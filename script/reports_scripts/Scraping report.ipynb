{
 "cells": [
  {
   "cell_type": "code",
   "execution_count": 1,
   "metadata": {},
   "outputs": [],
   "source": [
    "from pymongo import MongoClient\n",
    "import pandas as pd\n",
    "\n",
    "MONGO_URI = 'mongodb://localhost:27017'\n",
    "MONGO_DATABASE = 'col-scienti'\n",
    "MONGO_COLLECTION = 'groups'"
   ]
  },
  {
   "cell_type": "markdown",
   "metadata": {},
   "source": [
    "## Connect to DB"
   ]
  },
  {
   "cell_type": "code",
   "execution_count": 2,
   "metadata": {},
   "outputs": [],
   "source": [
    "client = MongoClient(MONGO_URI)\n",
    "db = client[MONGO_DATABASE]\n",
    "groups_collection = db[MONGO_COLLECTION]"
   ]
  },
  {
   "cell_type": "code",
   "execution_count": 11,
   "metadata": {},
   "outputs": [],
   "source": [
    "all_groups = groups_collection.find()"
   ]
  },
  {
   "cell_type": "code",
   "execution_count": 12,
   "metadata": {},
   "outputs": [
    {
     "name": "stdout",
     "output_type": "stream",
     "text": [
      "Total de grupos obtenidos 5198\n"
     ]
    }
   ],
   "source": [
    "total_groups = groups_collection.count_documents({})\n",
    "print('Total de grupos obtenidos {}'.format(total_groups))"
   ]
  },
  {
   "cell_type": "markdown",
   "metadata": {},
   "source": [
    "## Campos de cada grupo\n",
    "-  Código\n",
    "-  Nombre\n",
    "-  URL del gruplac\n",
    "-  Nombre del Líder\n",
    "-  URL de los perfiles del grupo\n",
    "-  Clasificación en la última convocatoria\n",
    "-  Fecha de clasificación\n",
    "-  Institución a la que pertenece el grupo\n",
    "-  Fecha de fundación\n",
    "-  Departamento\n",
    "-  Ciudad\n",
    "-  certificationDate\n",
    "-  Web del grupo\n",
    "-  Email del grupo\n",
    "-  Gran area de conocimiento\n",
    "-  Area de conocimiento\n",
    "-  nationalProgramOfScienceAndTechnology\n",
    "-  secondaryNationalProgramOfScienceAndTechnology\n",
    "-  Instituciones que avalan el grupo\n",
    "-  Plan estrategico\n",
    "-  Lineas de Investigación\n",
    "-  Sectores de aplicación\n",
    "-  Lista de miembros\n",
    "-  Lista de productos\n",
    "-  Perfiles\n"
   ]
  },
  {
   "cell_type": "code",
   "execution_count": 14,
   "metadata": {},
   "outputs": [
    {
     "name": "stdout",
     "output_type": "stream",
     "text": [
      "Total de productos: 1797122\n"
     ]
    }
   ],
   "source": [
    "from functools import reduce\n",
    "all_groups = groups_collection.find()\n",
    "total_products = sum(len(g['products']) for g in all_groups)\n",
    "print(f'Total de productos: {total_products}')"
   ]
  },
  {
   "cell_type": "code",
   "execution_count": 15,
   "metadata": {},
   "outputs": [],
   "source": [
    "## Campos bàsicos de cada producto"
   ]
  },
  {
   "cell_type": "markdown",
   "metadata": {},
   "source": [
    "## Perfiles para cada grupo\n",
    "* Perfil de integrantes\n",
    "* Perfil de colaboración\n",
    "* Perfil de productos resultado de actividades de generación de nuevo conocimiento\n",
    "* Perfil de productos resultado de actividades de Desarrollo Tecnológico e Innovación\n",
    "* Perfil de productos resultado de actividades de Apropiación Social del Conocimiento\n",
    "* Perfil de productos resultado de actividades relacionadas con la Formación del Recurso Humano en CTI"
   ]
  }
 ],
 "metadata": {
  "kernelspec": {
   "display_name": "Python 3",
   "language": "python",
   "name": "python3"
  },
  "language_info": {
   "codemirror_mode": {
    "name": "ipython",
    "version": 3
   },
   "file_extension": ".py",
   "mimetype": "text/x-python",
   "name": "python",
   "nbconvert_exporter": "python",
   "pygments_lexer": "ipython3",
   "version": "3.6.5"
  }
 },
 "nbformat": 4,
 "nbformat_minor": 2
}
