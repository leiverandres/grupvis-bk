{
 "cells": [
  {
   "cell_type": "code",
   "execution_count": 12,
   "metadata": {},
   "outputs": [],
   "source": [
    "import pandas as pd\n",
    "import matplotlib.pyplot as plt\n",
    "%matplotlib inline\n",
    "\n",
    "CONV_RESULTS_PATH = \"./datasets/resultados-grupos-utp.csv\"\n",
    "UTP_GROUPS_PATH = \"./datasets/grupos-utp.xlsx\""
   ]
  },
  {
   "cell_type": "code",
   "execution_count": 14,
   "metadata": {},
   "outputs": [
    {
     "name": "stdout",
     "output_type": "stream",
     "text": [
      "<class 'pandas.core.frame.DataFrame'>\n",
      "RangeIndex: 86 entries, 0 to 85\n",
      "Data columns (total 7 columns):\n",
      "CÓDIGO DE GRUPO                 86 non-null object\n",
      "NOMBRE DEL GRUPO                86 non-null object\n",
      "LÍDER DEL GRUPO                 86 non-null object\n",
      "INSTITUCIONES QUE LO AVALAN     86 non-null object\n",
      "GRUPO RECONOCIDO                86 non-null object\n",
      "GRUPO INSCRITO PARA MEDICIÓN    86 non-null object\n",
      "CLASIFICACIÓN DEL GRUPO         86 non-null object\n",
      "dtypes: object(7)\n",
      "memory usage: 4.8+ KB\n"
     ]
    }
   ],
   "source": [
    "data = pd.read_csv(CONV_RESULTS_PATH)\n",
    "data_utp = pd.read_excel(UTP_GROUPS_PATH, sheetname='all_groups')\n",
    "data.info()"
   ]
  },
  {
   "cell_type": "code",
   "execution_count": 7,
   "metadata": {
    "scrolled": true
   },
   "outputs": [
    {
     "data": {
      "text/html": [
       "<div>\n",
       "<style>\n",
       "    .dataframe thead tr:only-child th {\n",
       "        text-align: right;\n",
       "    }\n",
       "\n",
       "    .dataframe thead th {\n",
       "        text-align: left;\n",
       "    }\n",
       "\n",
       "    .dataframe tbody tr th {\n",
       "        vertical-align: top;\n",
       "    }\n",
       "</style>\n",
       "<table border=\"1\" class=\"dataframe\">\n",
       "  <thead>\n",
       "    <tr style=\"text-align: right;\">\n",
       "      <th></th>\n",
       "      <th>CÓDIGO DE GRUPO</th>\n",
       "      <th>NOMBRE DEL GRUPO</th>\n",
       "      <th>LÍDER DEL GRUPO</th>\n",
       "      <th>INSTITUCIONES QUE LO AVALAN</th>\n",
       "      <th>GRUPO RECONOCIDO</th>\n",
       "      <th>GRUPO INSCRITO PARA MEDICIÓN</th>\n",
       "      <th>CLASIFICACIÓN DEL GRUPO</th>\n",
       "    </tr>\n",
       "  </thead>\n",
       "  <tbody>\n",
       "    <tr>\n",
       "      <th>0</th>\n",
       "      <td>COL0006948</td>\n",
       "      <td>GESTIÓN EN AGROECO- SISTEMAS TROPICALES\\nANDINOS</td>\n",
       "      <td>JUAN CARLOS CAMARGO GARCÍA</td>\n",
       "      <td>UNIVERSIDAD TECNOLÓGICA DE\\nPEREIRA - UTP</td>\n",
       "      <td></td>\n",
       "      <td>Sí</td>\n",
       "      <td>A1</td>\n",
       "    </tr>\n",
       "    <tr>\n",
       "      <th>1</th>\n",
       "      <td>COL0025783</td>\n",
       "      <td>POLÍTICAS, SOCIABILIDADES Y REPRESENTACIONES H...</td>\n",
       "      <td>ALVARO ACEVEDO TARAZONA</td>\n",
       "      <td>UNIVERSIDAD TECNOLÓGICA DE PEREIRA - UTP; UNIV...</td>\n",
       "      <td></td>\n",
       "      <td>Sí</td>\n",
       "      <td>A1</td>\n",
       "    </tr>\n",
       "    <tr>\n",
       "      <th>2</th>\n",
       "      <td>COL0035995</td>\n",
       "      <td>GRUPO SIRIUS</td>\n",
       "      <td>JUAN DAVID HINCAPIE ZEA</td>\n",
       "      <td>UNIVERSIDAD\\nTECNOLÓGICA DE PEREIRA - UTP</td>\n",
       "      <td></td>\n",
       "      <td>Sí</td>\n",
       "      <td>A1</td>\n",
       "    </tr>\n",
       "    <tr>\n",
       "      <th>3</th>\n",
       "      <td>COL0041992</td>\n",
       "      <td>DESARROLLO EN INVESTIGACIÓN OPERATIVA (DINOP)</td>\n",
       "      <td>MAURICIO GRANADA ECHEVERRI</td>\n",
       "      <td>UNIVERSIDAD TECNOLÓGICA DE\\nPEREIRA - UTP</td>\n",
       "      <td></td>\n",
       "      <td>Sí</td>\n",
       "      <td>A1</td>\n",
       "    </tr>\n",
       "    <tr>\n",
       "      <th>4</th>\n",
       "      <td>COL0056199</td>\n",
       "      <td>INFECCIÓN E INMUNIDAD</td>\n",
       "      <td>JUAN CARLOS SEPÚLVEDA ARIAS</td>\n",
       "      <td>UNIVERSIDAD TECNOLÓGICA DE\\nPEREIRA - UTP</td>\n",
       "      <td></td>\n",
       "      <td>Sí</td>\n",
       "      <td>A1</td>\n",
       "    </tr>\n",
       "  </tbody>\n",
       "</table>\n",
       "</div>"
      ],
      "text/plain": [
       "  CÓDIGO DE GRUPO                                   NOMBRE DEL GRUPO  \\\n",
       "0      COL0006948   GESTIÓN EN AGROECO- SISTEMAS TROPICALES\\nANDINOS   \n",
       "1      COL0025783  POLÍTICAS, SOCIABILIDADES Y REPRESENTACIONES H...   \n",
       "2      COL0035995                                       GRUPO SIRIUS   \n",
       "3      COL0041992      DESARROLLO EN INVESTIGACIÓN OPERATIVA (DINOP)   \n",
       "4      COL0056199                              INFECCIÓN E INMUNIDAD   \n",
       "\n",
       "               LÍDER DEL GRUPO  \\\n",
       "0   JUAN CARLOS CAMARGO GARCÍA   \n",
       "1      ALVARO ACEVEDO TARAZONA   \n",
       "2      JUAN DAVID HINCAPIE ZEA   \n",
       "3   MAURICIO GRANADA ECHEVERRI   \n",
       "4  JUAN CARLOS SEPÚLVEDA ARIAS   \n",
       "\n",
       "                         INSTITUCIONES QUE LO AVALAN GRUPO RECONOCIDO  \\\n",
       "0          UNIVERSIDAD TECNOLÓGICA DE\\nPEREIRA - UTP                   \n",
       "1  UNIVERSIDAD TECNOLÓGICA DE PEREIRA - UTP; UNIV...                   \n",
       "2          UNIVERSIDAD\\nTECNOLÓGICA DE PEREIRA - UTP                   \n",
       "3          UNIVERSIDAD TECNOLÓGICA DE\\nPEREIRA - UTP                   \n",
       "4          UNIVERSIDAD TECNOLÓGICA DE\\nPEREIRA - UTP                   \n",
       "\n",
       "  GRUPO INSCRITO PARA MEDICIÓN CLASIFICACIÓN DEL GRUPO  \n",
       "0                           Sí                      A1  \n",
       "1                           Sí                      A1  \n",
       "2                           Sí                      A1  \n",
       "3                           Sí                      A1  \n",
       "4                           Sí                      A1  "
      ]
     },
     "execution_count": 7,
     "metadata": {},
     "output_type": "execute_result"
    }
   ],
   "source": [
    "data.head()"
   ]
  },
  {
   "cell_type": "code",
   "execution_count": 152,
   "metadata": {},
   "outputs": [],
   "source": [
    "# Remove newlines\n",
    "#data[\"NOMBRE DEL GRUPO\"] = data[\"NOMBRE DEL GRUPO\"].apply(lambda x: ''.join(str(x).split('\\n|-')))\n",
    "data[\"INSTITUCIONES QUE LO AVALAN\"] = data[\"INSTITUCIONES QUE LO AVALAN\"].str.lower()\n",
    "data[\"INSTITUCIONES QUE LO AVALAN\"] = data[\"INSTITUCIONES QUE LO AVALAN\"].str.replace('\\n', '');\n",
    "data[\"INSTITUCIONES QUE LO AVALAN\"] = data[\"INSTITUCIONES QUE LO AVALAN\"].str.replace(r' - ', ' ');\n",
    "data[\"INSTITUCIONES QUE LO AVALAN\"] = data[\"INSTITUCIONES QUE LO AVALAN\"].str.replace('á', 'a');\n",
    "data[\"INSTITUCIONES QUE LO AVALAN\"] = data[\"INSTITUCIONES QUE LO AVALAN\"].str.replace('é', 'e');\n",
    "data[\"INSTITUCIONES QUE LO AVALAN\"] = data[\"INSTITUCIONES QUE LO AVALAN\"].str.replace('í', 'i');\n",
    "data[\"INSTITUCIONES QUE LO AVALAN\"] = data[\"INSTITUCIONES QUE LO AVALAN\"].str.replace('ó', 'o');\n",
    "data[\"INSTITUCIONES QUE LO AVALAN\"] = data[\"INSTITUCIONES QUE LO AVALAN\"].str.replace('ú', 'u');\n",
    "# Substitute multiple whitespace with single whitespace\n",
    "#data[\"NOMBRE DEL GRUPO\"] = data[\"NOMBRE DEL GRUPO\"].apply(lambda x: ' '.join(str(x).split()))"
   ]
  },
  {
   "cell_type": "code",
   "execution_count": 153,
   "metadata": {},
   "outputs": [
    {
     "data": {
      "text/html": [
       "<div>\n",
       "<style>\n",
       "    .dataframe thead tr:only-child th {\n",
       "        text-align: right;\n",
       "    }\n",
       "\n",
       "    .dataframe thead th {\n",
       "        text-align: left;\n",
       "    }\n",
       "\n",
       "    .dataframe tbody tr th {\n",
       "        vertical-align: top;\n",
       "    }\n",
       "</style>\n",
       "<table border=\"1\" class=\"dataframe\">\n",
       "  <thead>\n",
       "    <tr style=\"text-align: right;\">\n",
       "      <th></th>\n",
       "      <th>CÓDIGO DE GRUPO</th>\n",
       "      <th>NOMBRE DEL GRUPO</th>\n",
       "      <th>LÍDER DEL GRUPO</th>\n",
       "      <th>INSTITUCIONES QUE LO AVALAN</th>\n",
       "      <th>GRUPO RECONOCIDO</th>\n",
       "      <th>GRUPO INSCRITO PARA MEDICIÓN</th>\n",
       "      <th>CLASIFICACIÓN DEL GRUPO</th>\n",
       "    </tr>\n",
       "  </thead>\n",
       "  <tbody>\n",
       "    <tr>\n",
       "      <th>0</th>\n",
       "      <td>COL0006948</td>\n",
       "      <td>gestión en agroeco- sistemas tropicales andinos</td>\n",
       "      <td>JUAN CARLOS CAMARGO GARCÍA</td>\n",
       "      <td>universidad tecnologica de pereira utp</td>\n",
       "      <td></td>\n",
       "      <td>Sí</td>\n",
       "      <td>A1</td>\n",
       "    </tr>\n",
       "    <tr>\n",
       "      <th>1</th>\n",
       "      <td>COL0025783</td>\n",
       "      <td>políticas, sociabilidades y representaciones h...</td>\n",
       "      <td>ALVARO ACEVEDO TARAZONA</td>\n",
       "      <td>universidad tecnologica de pereira utp; univer...</td>\n",
       "      <td></td>\n",
       "      <td>Sí</td>\n",
       "      <td>A1</td>\n",
       "    </tr>\n",
       "    <tr>\n",
       "      <th>2</th>\n",
       "      <td>COL0035995</td>\n",
       "      <td>grupo sirius</td>\n",
       "      <td>JUAN DAVID HINCAPIE ZEA</td>\n",
       "      <td>universidad tecnologica de pereira utp</td>\n",
       "      <td></td>\n",
       "      <td>Sí</td>\n",
       "      <td>A1</td>\n",
       "    </tr>\n",
       "    <tr>\n",
       "      <th>3</th>\n",
       "      <td>COL0041992</td>\n",
       "      <td>desarrollo en investigación operativa (dinop)</td>\n",
       "      <td>MAURICIO GRANADA ECHEVERRI</td>\n",
       "      <td>universidad tecnologica de pereira utp</td>\n",
       "      <td></td>\n",
       "      <td>Sí</td>\n",
       "      <td>A1</td>\n",
       "    </tr>\n",
       "    <tr>\n",
       "      <th>4</th>\n",
       "      <td>COL0056199</td>\n",
       "      <td>infección e inmunidad</td>\n",
       "      <td>JUAN CARLOS SEPÚLVEDA ARIAS</td>\n",
       "      <td>universidad tecnologica de pereira utp</td>\n",
       "      <td></td>\n",
       "      <td>Sí</td>\n",
       "      <td>A1</td>\n",
       "    </tr>\n",
       "  </tbody>\n",
       "</table>\n",
       "</div>"
      ],
      "text/plain": [
       "  CÓDIGO DE GRUPO                                   NOMBRE DEL GRUPO  \\\n",
       "0      COL0006948    gestión en agroeco- sistemas tropicales andinos   \n",
       "1      COL0025783  políticas, sociabilidades y representaciones h...   \n",
       "2      COL0035995                                       grupo sirius   \n",
       "3      COL0041992      desarrollo en investigación operativa (dinop)   \n",
       "4      COL0056199                              infección e inmunidad   \n",
       "\n",
       "               LÍDER DEL GRUPO  \\\n",
       "0   JUAN CARLOS CAMARGO GARCÍA   \n",
       "1      ALVARO ACEVEDO TARAZONA   \n",
       "2      JUAN DAVID HINCAPIE ZEA   \n",
       "3   MAURICIO GRANADA ECHEVERRI   \n",
       "4  JUAN CARLOS SEPÚLVEDA ARIAS   \n",
       "\n",
       "                         INSTITUCIONES QUE LO AVALAN GRUPO RECONOCIDO  \\\n",
       "0             universidad tecnologica de pereira utp                   \n",
       "1  universidad tecnologica de pereira utp; univer...                   \n",
       "2             universidad tecnologica de pereira utp                   \n",
       "3             universidad tecnologica de pereira utp                   \n",
       "4             universidad tecnologica de pereira utp                   \n",
       "\n",
       "  GRUPO INSCRITO PARA MEDICIÓN CLASIFICACIÓN DEL GRUPO  \n",
       "0                           Sí                      A1  \n",
       "1                           Sí                      A1  \n",
       "2                           Sí                      A1  \n",
       "3                           Sí                      A1  \n",
       "4                           Sí                      A1  "
      ]
     },
     "execution_count": 153,
     "metadata": {},
     "output_type": "execute_result"
    }
   ],
   "source": [
    "data.head()"
   ]
  },
  {
   "cell_type": "code",
   "execution_count": 64,
   "metadata": {},
   "outputs": [
    {
     "data": {
      "text/plain": [
       "['agua y saneamiento',\n",
       " 'desarrollo humano y organizacional',\n",
       " 'arte y cultura',\n",
       " 'estudios políticos y jurídicos',\n",
       " 'políticas, sociabilidades y representaciones histórico-educativas',\n",
       " 'gerencia en sistemas de salud',\n",
       " 'grande. (grupo de avanzada en desarrollo de software)',\n",
       " 'poliglosia-grupo de investigación en lingüística aplicada a la enseñanza de las lenguas',\n",
       " 'gestión de sistemas eléctricos, electrónicos y automáticos',\n",
       " 'salud pública e infección',\n",
       " 'automática',\n",
       " 'comunicacion educativa',\n",
       " 'producción pecuaria sostenible',\n",
       " 'filosofia y memoria',\n",
       " 'robótica aplicada',\n",
       " 'estudios regionales sobre literatura y cultura',\n",
       " 'transfórmate',\n",
       " 'estudios del lenguaje y la educación',\n",
       " 'filosofía y escepticismo',\n",
       " 'cultura visual']"
      ]
     },
     "execution_count": 64,
     "metadata": {},
     "output_type": "execute_result"
    }
   ],
   "source": [
    "intersection = list(set(data[\"NOMBRE DEL GRUPO\"]).intersection(set(data_utp[\"Nombre del grupo\"])))\n",
    "intersection"
   ]
  },
  {
   "cell_type": "code",
   "execution_count": 102,
   "metadata": {},
   "outputs": [
    {
     "data": {
      "text/plain": [
       "'gestion en agroeco- sistemas tropicales andinos'"
      ]
     },
     "execution_count": 102,
     "metadata": {},
     "output_type": "execute_result"
    }
   ],
   "source": [
    "data['NOMBRE DEL GRUPO'].str.replace('ó', 'o').loc[0]"
   ]
  }
 ],
 "metadata": {
  "kernelspec": {
   "display_name": "Python 3",
   "language": "python",
   "name": "python3"
  },
  "language_info": {
   "codemirror_mode": {
    "name": "ipython",
    "version": 3
   },
   "file_extension": ".py",
   "mimetype": "text/x-python",
   "name": "python",
   "nbconvert_exporter": "python",
   "pygments_lexer": "ipython3",
   "version": "3.6.1"
  }
 },
 "nbformat": 4,
 "nbformat_minor": 2
}
